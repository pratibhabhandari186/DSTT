{
 "cells": [
  {
   "cell_type": "code",
   "execution_count": 20,
   "id": "5a9e3130",
   "metadata": {},
   "outputs": [
    {
     "name": "stdout",
     "output_type": "stream",
     "text": [
      "enter the first number3\n",
      "enter the second number4\n",
      "the sum of two numbers is given by  7\n"
     ]
    }
   ],
   "source": [
    "##Perform the addition of two numbers \n",
    "a=input(\"enter the first number\")\n",
    "b=input(\"enter the second number\")\n",
    "print(\"the sum of two numbers is given by \", int(a)+int(b))"
   ]
  },
  {
   "cell_type": "code",
   "execution_count": 31,
   "id": "44d0a04c",
   "metadata": {},
   "outputs": [
    {
     "name": "stdout",
     "output_type": "stream",
     "text": [
      "Enter the marks of the student 50\n",
      "The grade of the student is B+\n"
     ]
    }
   ],
   "source": [
    "##To input marks and check grade associated with it \n",
    "a=input(\"Enter the marks of the student \")\n",
    "if (int(a)>90) and (int(a)<=100):\n",
    "    print(\"The grade of the student is O\")\n",
    "elif(int(a)>80) and (int(a)<=90):\n",
    "    print(\"The grade of the student is A\")\n",
    "elif(int(a)>70) and (int(a)<=80):\n",
    "    print(\"The grade of the student is A+\")\n",
    "elif(int(a)>50) and (int(a)<=60):\n",
    "    print(\"The grade of the student is B\")\n",
    "elif(int(a)>40) and (int(a)<=50):\n",
    "    print(\"The grade of the student is B+\")\n",
    "else:\n",
    "    print(\"fail\")"
   ]
  },
  {
   "cell_type": "code",
   "execution_count": 3,
   "id": "6243caa2",
   "metadata": {},
   "outputs": [
    {
     "name": "stdout",
     "output_type": "stream",
     "text": [
      "The first number is 2\n",
      "The second number is 3\n",
      "The third number is 2\n",
      "the largest among three numbers is  3\n"
     ]
    }
   ],
   "source": [
    "##to print the largest of three numbers\n",
    "a=input(\"The first number is \")\n",
    "b=input(\"The second number is \")\n",
    "c=input(\"The third number is \")\n",
    "#a=int(a)\n",
    "#b=int(b)\n",
    "#c=int(c)\n",
    "if a>b and a>c:\n",
    "    print(\"the largest among three numbers is \",a)\n",
    "elif b>a and b>c:\n",
    "    print(\"the largest among three numbers is \",b)\n",
    "elif c>b and c>a:\n",
    "    print(\"the largest among three numbers is \",c)\n",
    "#print(max(a,b,c))"
   ]
  },
  {
   "cell_type": "code",
   "execution_count": 6,
   "id": "c936cd02",
   "metadata": {},
   "outputs": [
    {
     "name": "stdout",
     "output_type": "stream",
     "text": [
      "*\n",
      "**\n",
      "***\n",
      "****\n",
      "..........\n"
     ]
    }
   ],
   "source": [
    "\"\"\"Program to print following pattern: \n",
    "*\n",
    "**\n",
    "***\n",
    "****\n",
    "……….\n",
    "\"\"\"\n",
    "for i in range(1,6):\n",
    "    if i<=4:\n",
    "        print(\"*\"*i)\n",
    "    elif i>4:\n",
    "        print(\".\"*i*2)\n",
    "        "
   ]
  },
  {
   "cell_type": "code",
   "execution_count": 20,
   "id": "adc40340",
   "metadata": {},
   "outputs": [
    {
     "name": "stdout",
     "output_type": "stream",
     "text": [
      "The max no. of stars(greater than 3) in a row5\n",
      "     * \n",
      "    * * \n",
      "   * * * \n",
      "  * * * * \n",
      " * * * * * \n",
      "  * * * * \n",
      "   * * * \n",
      "    * * \n",
      "     * \n"
     ]
    }
   ],
   "source": [
    "\"\"\"Program to print the Diamond Pattern\n",
    "   *\n",
    "  * *\n",
    " * * *\n",
    "  * *\n",
    "   *\n",
    "\"\"\"\n",
    "n=int(input(\"The max no. of stars(greater than 3) in a row\"))\n",
    "j=n-1\n",
    "for i in range(1,(n+1)):\n",
    "    print((j)*\" \", \"* \"*i)\n",
    "    j-=1\n",
    "j=1\n",
    "for i in range((n-1),0,-1):\n",
    "    print((j)*\" \", \"* \"*i)\n",
    "    j+=1"
   ]
  },
  {
   "cell_type": "code",
   "execution_count": 21,
   "id": "9c4b1d51",
   "metadata": {},
   "outputs": [
    {
     "name": "stdout",
     "output_type": "stream",
     "text": [
      "*\n",
      "**\n",
      "***\n",
      "**\n",
      "*\n"
     ]
    }
   ],
   "source": [
    "\"\"\"Program to print the following pattern\n",
    "*\n",
    "**\n",
    "***\n",
    "**\n",
    "*\n",
    "\"\"\"\n",
    "for i in range(1,4):\n",
    "    print(\"*\"*i)\n",
    "for j in range(3,1,-1):\n",
    "    print((j-1)*\"*\")\n"
   ]
  },
  {
   "cell_type": "code",
   "execution_count": 23,
   "id": "d9e644d6",
   "metadata": {},
   "outputs": [
    {
     "name": "stdout",
     "output_type": "stream",
     "text": [
      "___ *\n",
      "__ ***\n",
      "_ *****\n",
      " *******\n"
     ]
    }
   ],
   "source": [
    "\"\"\"Program to print the following pattern\n",
    "___*\n",
    "__***\n",
    "_*****\n",
    "*******\n",
    "\"\"\"\n",
    "j=1\n",
    "for i in range(4,0,-1):\n",
    "    print((i-1)*\"_\",\"*\"*j)\n",
    "    j+=2\n",
    "    "
   ]
  },
  {
   "cell_type": "code",
   "execution_count": 15,
   "id": "afdcfaef",
   "metadata": {},
   "outputs": [
    {
     "name": "stdout",
     "output_type": "stream",
     "text": [
      " *******\n",
      "  *****\n",
      "   ***\n",
      "    *\n"
     ]
    }
   ],
   "source": [
    "n=5\n",
    "if (n%2)==0:\n",
    "    j=n+3\n",
    "else:\n",
    "    j=n+4\n",
    "for i in range(0,4):\n",
    "    print(i*\" \",j*\"*\")\n",
    "    j-=2"
   ]
  },
  {
   "cell_type": "code",
   "execution_count": 11,
   "id": "e0838a2e",
   "metadata": {},
   "outputs": [
    {
     "name": "stdout",
     "output_type": "stream",
     "text": [
      "enter the no. of lines to be printed of the pattern5\n",
      " *********\n",
      "  *******\n",
      "   *****\n",
      "    ***\n",
      "     *\n"
     ]
    }
   ],
   "source": [
    "\"\"\"Write a program to print the following pattern\n",
    "*******\n",
    " *****\n",
    "  ***\n",
    "   *\"\"\"\n",
    "n=int(input(\"enter the no. of lines to be printed of the pattern\"))\n",
    "if (n%2)==0:\n",
    "    j=n+3\n",
    "else:\n",
    "    j=n+4\n",
    "for i in range(0,n):\n",
    "    print(\" \"*i,\"*\"*j)\n",
    "    j=j-2\n",
    "    "
   ]
  },
  {
   "cell_type": "code",
   "execution_count": 3,
   "id": "78bd64af",
   "metadata": {},
   "outputs": [
    {
     "data": {
      "text/plain": [
       "225"
      ]
     },
     "execution_count": 3,
     "metadata": {},
     "output_type": "execute_result"
    }
   ],
   "source": [
    "##Program to demonstrate the use of arithmetic operators and their precedence\n",
    "((4+2)-6+3*5)**2"
   ]
  },
  {
   "cell_type": "code",
   "execution_count": 2,
   "id": "87f7803d",
   "metadata": {},
   "outputs": [
    {
     "name": "stdout",
     "output_type": "stream",
     "text": [
      "Enter the marks of the student 58\n",
      "The grade of the student is B\n"
     ]
    }
   ],
   "source": [
    "##A program to demonstrate the use of logical operators \n",
    "## same program as grading scheme\n",
    "a=input(\"Enter the marks of the student \")\n",
    "if (int(a)>90) and (int(a)<=100):\n",
    "    print(\"The grade of the student is O\")\n",
    "elif(int(a)>80) and (int(a)<=90):\n",
    "    print(\"The grade of the student is A\")\n",
    "elif(int(a)>70) and (int(a)<=80):\n",
    "    print(\"The grade of the student is A+\")\n",
    "elif(int(a)>50) and (int(a)<=60):\n",
    "    print(\"The grade of the student is B\")\n",
    "elif(int(a)>40) and (int(a)<=50):\n",
    "    print(\"The grade of the student is B+\")\n",
    "else:\n",
    "    print(\"fail\")\n"
   ]
  },
  {
   "cell_type": "code",
   "execution_count": 19,
   "id": "f5d87707",
   "metadata": {},
   "outputs": [],
   "source": [
    "#Program to demonstrate the use of relational operators\n",
    "##to print the largest of three numbers\n",
    "a=input(\"The first number is \")\n",
    "b=input(\"The second number is \")\n",
    "c=input(\"The third number is \")\n",
    "#a=int(a)\n",
    "#b=int(b)\n",
    "#c=int(c)\n",
    "if a>b and a>c:\n",
    "    print(\"the largest among three numbers is \",a)\n",
    "elif b>a and b>c:\n",
    "    print(\"the largest among three numbers is \",b)\n",
    "elif c>b and c>a:\n",
    "    print(\"the largest among three numbers is \",c)\n",
    "#print(max(a,b,c))"
   ]
  },
  {
   "cell_type": "code",
   "execution_count": 6,
   "id": "cf80a1d0",
   "metadata": {},
   "outputs": [
    {
     "name": "stdout",
     "output_type": "stream",
     "text": [
      "6\n"
     ]
    }
   ],
   "source": [
    "#Program to demonstrate the use of main() function\n",
    "def main():\n",
    "    a,b=2,4\n",
    "    print(a+b)\n",
    "main()"
   ]
  },
  {
   "cell_type": "code",
   "execution_count": 4,
   "id": "25750371",
   "metadata": {},
   "outputs": [
    {
     "name": "stdout",
     "output_type": "stream",
     "text": [
      "3\n"
     ]
    }
   ],
   "source": [
    "#Program to demonstrate the use of lamda fuctions\n",
    "def ans_Add(a):\n",
    "    return lambda b :a+b\n",
    "vv=ans_Add(1)\n",
    "print(vv(2))"
   ]
  },
  {
   "cell_type": "code",
   "execution_count": 5,
   "id": "1bb63e8b",
   "metadata": {},
   "outputs": [
    {
     "name": "stdout",
     "output_type": "stream",
     "text": [
      "Enter the first number 3\n",
      "Enter the second number 3\n",
      "Enter the operator to be performed:\n",
      "'a' for addition\n",
      "'m' for multiplication m\n",
      "The multiplication of two numbers is given by  9.0\n"
     ]
    }
   ],
   "source": [
    "#Program to add and multiply numbers using functions\n",
    "def addition(a,b):\n",
    "    return (a+b)\n",
    "def multiplication(a,b):\n",
    "    return(a*b)\n",
    "a=float(input(\"Enter the first number \"))\n",
    "b=float(input(\"Enter the second number \"))\n",
    "o=input(\"Enter the operator to be performed:\\n'a' for addition\\n'm' for multiplication \")\n",
    "if o=='a':\n",
    "    print(\"The addition of two numbers is given by \",addition(a,b))\n",
    "elif o=='m':\n",
    "    print(\"The multiplication of two numbers is given by \",multiplication(a,b))\n",
    "else:\n",
    "    print(\"Wrong operator\")"
   ]
  },
  {
   "cell_type": "code",
   "execution_count": 20,
   "id": "d84e139d",
   "metadata": {},
   "outputs": [
    {
     "name": "stdout",
     "output_type": "stream",
     "text": [
      "Pratibha Bhandari \n",
      "Pratibha Bhandari \n"
     ]
    }
   ],
   "source": [
    "#Program to concatenate strings in Python\n",
    "A=\"Pratibha \"\n",
    "B=\"Bhandari \"\n",
    "#C=A+B\n",
    "c=''\n",
    "for i in A:\n",
    "    c=c+i\n",
    "for i in B:\n",
    "    c=c+i\n",
    "print(c)\n",
    "result=\"{}{}\".format(A,B)\n",
    "print(result)"
   ]
  },
  {
   "cell_type": "code",
   "execution_count": 14,
   "id": "a368dda5",
   "metadata": {},
   "outputs": [],
   "source": [
    "#Program to demonstrate inbuilt functions"
   ]
  },
  {
   "cell_type": "code",
   "execution_count": null,
   "id": "687c1154",
   "metadata": {},
   "outputs": [],
   "source": [
    "#Program to demonstrate inbuilt math function\n",
    "x,y,z=input().split(\",\")\n",
    "print(min(x,y,z))\n",
    "print(max(x,y,z))\n",
    "print(pow(int(x),int(y)))\n",
    "y=int(input())\n",
    "print(abs(y))"
   ]
  },
  {
   "cell_type": "code",
   "execution_count": 17,
   "id": "36f035b8",
   "metadata": {},
   "outputs": [
    {
     "name": "stdout",
     "output_type": "stream",
     "text": [
      "120\n"
     ]
    }
   ],
   "source": [
    "#Program to calculate factorial of a number using recursion\n",
    "def rec_fact(n):\n",
    "    if n==0:\n",
    "        return(1)\n",
    "    else:\n",
    "        return(n*rec_fact(n-1))\n",
    "print(rec_fact(5))"
   ]
  },
  {
   "cell_type": "code",
   "execution_count": 17,
   "id": "b088fb08",
   "metadata": {
    "scrolled": true
   },
   "outputs": [
    {
     "name": "stdout",
     "output_type": "stream",
     "text": [
      "1 2 3 1 2 3 1\n",
      "7\n",
      "1\n",
      "[1, 2, 3, 1, 2, 3, 1, 1]\n",
      "[1, 2, 3, 1, 2, 3, 1, 1, 2]\n",
      "1\n"
     ]
    },
    {
     "data": {
      "text/plain": [
       "[1, 16, 2, 3, 1, 2, 3, 1, 1, 2]"
      ]
     },
     "execution_count": 17,
     "metadata": {},
     "output_type": "execute_result"
    }
   ],
   "source": [
    "\"\"\"Program to make a List in Python and perform following operations \n",
    "on List:\n",
    "a) length using len() function\n",
    "b) print element at index 0\n",
    "c) adding an element to the list using + operator\n",
    "d) appending an element to the list \n",
    "e) negative indexing in list\n",
    "f) remove the first occurrence of element a from list\n",
    "g) reverse the list\n",
    "h) sort list\n",
    "\"\"\"\n",
    "L=[int(i) for i in input().split()]\n",
    "print(len(L))\n",
    "print(L[0])\n",
    "L=L+[1]\n",
    "print(L)\n",
    "L.append(2)\n",
    "print(L)\n",
    "print(L[-2])\n",
    "L.insert(1,16)\n",
    "L\n",
    "        \n",
    "\n"
   ]
  },
  {
   "cell_type": "code",
   "execution_count": 41,
   "id": "9ac9a8b0",
   "metadata": {},
   "outputs": [
    {
     "name": "stdout",
     "output_type": "stream",
     "text": [
      "1 2 1 2 1 4 3 2 1 3 4\n",
      "Enter the element to be deleted from the list2\n",
      "[1, 1, 2, 1, 4, 3, 2, 1, 3, 4]\n"
     ]
    },
    {
     "data": {
      "text/plain": [
       "[4, 3, 1, 2, 3, 4, 1, 2, 1, 1]"
      ]
     },
     "execution_count": 41,
     "metadata": {},
     "output_type": "execute_result"
    }
   ],
   "source": [
    "#Program to delete the first occurence of an element and reversing a list\n",
    "L=[int(i) for i in input().split()]\n",
    "a=int(input(\"Enter the element to be deleted from the list\"))\n",
    "if a in L:\n",
    "    L.remove(a)\n",
    "else:\n",
    "    print(\"element not in L\")\n",
    "print(L)\n",
    "L[-1:-(len(L)+1):-1]"
   ]
  },
  {
   "cell_type": "code",
   "execution_count": 38,
   "id": "de1ee414",
   "metadata": {},
   "outputs": [
    {
     "name": "stdout",
     "output_type": "stream",
     "text": [
      "1 2 1 3 1 4 1 3 2\n",
      "[1, 1, 1, 1, 2, 2, 3, 3, 4]\n"
     ]
    }
   ],
   "source": [
    "#sort a list(increasing order)\n",
    "L=[int(i) for i in input().split()]\n",
    "for j in range(0,len(L)):\n",
    "    for k in range(j+1,len(L)):\n",
    "        if L[j]>L[k]:\n",
    "            a=L[k]\n",
    "            L[k]=L[j]\n",
    "            L[j]=a\n",
    "print(\"The sorted list is given by\",L)"
   ]
  },
  {
   "cell_type": "code",
   "execution_count": null,
   "id": "95a5e3e8",
   "metadata": {},
   "outputs": [],
   "source": [
    "##Write a program to demonstrate use of Dictionary in Python with their inbuilt functions.\n",
    "A={\"a\":10,\"b\":23,\"c\":\"alpha\",\"d\":\"beta\"}\n",
    "print(A[\"a\"])\n",
    "print(A[\"a\"]+A[\"b\"])\n",
    "print(A[\"c\"][3])\n"
   ]
  },
  {
   "cell_type": "code",
   "execution_count": 18,
   "id": "5021b254",
   "metadata": {},
   "outputs": [
    {
     "name": "stdout",
     "output_type": "stream",
     "text": [
      "{1, 'apple', 'mango', 'true', 'banana'}\n",
      "<class 'set'>\n",
      "1 apple mango true banana "
     ]
    }
   ],
   "source": [
    "#Program to demonstrate use of Set in Python with their inbuilt functions.\n",
    "S={\"banana\",\"apple\",\"mango\",\"apple\",\"mango\",\"true\",1}\n",
    "print(S)\n",
    "type(S)\n",
    "this_set=type(set(S))\n",
    "print(this_set)\n",
    "for x in S:\n",
    "    print(x,end=\" \")\n",
    "S.add(\"pineapple\")\n",
    "S\n",
    "S.remove(1)\n",
    "S.discard(3)#will not show error even if the element is not in set\n"
   ]
  },
  {
   "cell_type": "code",
   "execution_count": 19,
   "id": "9c676743",
   "metadata": {},
   "outputs": [
    {
     "name": "stdout",
     "output_type": "stream",
     "text": [
      "banana\n",
      "20\n",
      "20\n",
      "a\n"
     ]
    }
   ],
   "source": [
    "#Program to demonstrate use of Tuple in Python with their inbuilt functions\n",
    "this_tuple=(\"banana\",23,\"a\",20 )\n",
    "#unpacking of tuples\n",
    "yellow,number,alphabet,number=this_tuple\n",
    "print(yellow)\n",
    "print(number)\n",
    "print(number)\n",
    "print(alphabet)"
   ]
  },
  {
   "cell_type": "code",
   "execution_count": 21,
   "id": "9088b234",
   "metadata": {},
   "outputs": [
    {
     "name": "stdout",
     "output_type": "stream",
     "text": [
      "The list is given by:  [6, 10, 13, 22, 23, 25, 43, 45, 56, 67, 67, 89, 100]\n",
      "The median of the list is given by  43\n"
     ]
    }
   ],
   "source": [
    "#Program to calculate Median using List.\n",
    "L=[100,25,23,10,89,67,56,43,67,45,22,13,6]\n",
    "l=len(L)\n",
    "int(l)\n",
    "for j in range(0,len(L)):\n",
    "    for i in range((j+1),len(L)):\n",
    "        if L[j]>L[i]:\n",
    "            a=L[j]\n",
    "            L[j]=L[i]\n",
    "            L[i]=a\n",
    "print(\"The list is given by: \",L)\n",
    "if (l%2)==0:\n",
    "    med=(L[int(l/2)]+L1[int(l/2)-1])/2\n",
    "elif (l%2)!=0:\n",
    "    med=L[int((l+1)/2)-1]\n",
    "print(\"The median of the list is given by \",med)\n"
   ]
  },
  {
   "cell_type": "code",
   "execution_count": 2,
   "id": "11c33481",
   "metadata": {},
   "outputs": [
    {
     "name": "stdout",
     "output_type": "stream",
     "text": [
      "1 1 1 2 2 2 3 3 3 4 4 4 2 2 4 4\n",
      "The mode of the list is given by: \n",
      "2 4 "
     ]
    }
   ],
   "source": [
    "#Program to calculate Mode using List.\n",
    "L=[int(i) for i in input().split()]\n",
    "L.sort()\n",
    "cnt=[]\n",
    "M=[]\n",
    "for i in L:\n",
    "    if i not in M:\n",
    "        M.append(i)\n",
    "for i in M:\n",
    "    cnt.append(L.count(i))\n",
    "c=max(cnt)\n",
    "print(\"The mode of the list is given by: \")\n",
    "for i in range(0,len(cnt)):\n",
    "    if cnt[i]==c:\n",
    "        print(M[i],end=\" \")\n",
    "    \n",
    "    "
   ]
  },
  {
   "cell_type": "code",
   "execution_count": null,
   "id": "cd84259e",
   "metadata": {},
   "outputs": [],
   "source": [
    "#Program to calculate Mean using List.\n",
    "l=input('Enter the string: ').split()\n",
    "l=[int(i) for i in l]\n",
    "sum=0\n",
    "int(sum)\n",
    "print(\"The list of integers is: \",l)\n",
    "for i in L:\n",
    "    sum=sum+i\n",
    "print(\"The mean of the list elements is given by: \",sum/(len(L)))"
   ]
  },
  {
   "cell_type": "code",
   "execution_count": 21,
   "id": "60413808",
   "metadata": {},
   "outputs": [],
   "source": [
    "#Program and create class Person, inherit Person class by Student.\n",
    "class Person:\n",
    "  def __init__(self, fname, lname):\n",
    "    self.firstname = fname\n",
    "    self.lastname = lname\n",
    "\n",
    "  def printname(self):\n",
    "    print(self.firstname, self.lastname)\n",
    "class Student(Person):\n",
    "  def __init__(self, fname, lname, year):\n",
    "    super().__init__(fname, lname)\n",
    "    self.graduationyear = year\n",
    "\n",
    "x = Student(\"Mike\", \"Olsen\", 2019)\n"
   ]
  },
  {
   "cell_type": "code",
   "execution_count": 3,
   "id": "a10b0390",
   "metadata": {},
   "outputs": [
    {
     "name": "stdout",
     "output_type": "stream",
     "text": [
      "[3, 2, 1]\n"
     ]
    }
   ],
   "source": [
    "A=[1,2,3]\n",
    "X=[]\n",
    "X=A[-1:-(len(A)+1):-1]\n",
    "print(X)"
   ]
  },
  {
   "cell_type": "code",
   "execution_count": 2,
   "id": "c88b05d5",
   "metadata": {},
   "outputs": [
    {
     "name": "stdout",
     "output_type": "stream",
     "text": [
      "False\n",
      "True\n",
      "True\n",
      "True\n"
     ]
    }
   ],
   "source": [
    "#Program to demonstrate the use of identity operator\n",
    "x=[\"a\",\"b\",\"c\"]\n",
    "y=[\"a\",\"b\",\"c\"]\n",
    "z=y\n",
    "print(x is y)\n",
    "#though the elements of x and y are same still x is not y (by the defination of \"is\" operator)\n",
    "print(x is not z)\n",
    "print(x==y)\n",
    "#difference betwwen \"is\" and \"==\" operator is that \"==\" compares the elements and \"is\" see the assignment of one list to another \n",
    "print(y is z)"
   ]
  },
  {
   "cell_type": "code",
   "execution_count": 5,
   "id": "414c0a0d",
   "metadata": {},
   "outputs": [
    {
     "name": "stdout",
     "output_type": "stream",
     "text": [
      "Fruit not available\n"
     ]
    }
   ],
   "source": [
    "#Program to demonstrate the use of membership operators\n",
    "L=[\"apple\",\"mango\"]\n",
    "if \"banana\" in L:\n",
    "    print(\"fruit available\")\n",
    "elif \"banana\" not in L:\n",
    "    print(\"Fruit not available\")"
   ]
  },
  {
   "cell_type": "code",
   "execution_count": null,
   "id": "cb134cc8",
   "metadata": {},
   "outputs": [],
   "source": [
    "#Program to create module with functions and use this module in another program\n"
   ]
  },
  {
   "cell_type": "code",
   "execution_count": 25,
   "id": "80831cd0",
   "metadata": {},
   "outputs": [
    {
     "name": "stdout",
     "output_type": "stream",
     "text": [
      "Enter the first list: \n",
      "1 2 1 2\n",
      "Enter the second list: \n",
      "1 2 3\n",
      "[1, 2, 1, 2, 1, 2, 3]\n"
     ]
    }
   ],
   "source": [
    "# Program to demonstrate list creation, append entire list to another list \n",
    "print(\"Enter the first list: \")\n",
    "L=[int(i) for i in input().split()]\n",
    "print(\"Enter the second list: \")\n",
    "M=[int(i) for i in input().split()]\n",
    "#print(L+M)\n",
    "for i in M:\n",
    "    L.append(i)\n",
    "print(L)"
   ]
  },
  {
   "cell_type": "code",
   "execution_count": 33,
   "id": "2f6456cb",
   "metadata": {},
   "outputs": [
    {
     "name": "stdout",
     "output_type": "stream",
     "text": [
      "1 2 1 2 1 2 1 2 2\n",
      "[2, 1, 2]\n"
     ]
    }
   ],
   "source": [
    "#Program to demonstrate slicing operations on the list\n",
    "L=[int(i) for i in input().split()]\n",
    "print(L[1:4])"
   ]
  },
  {
   "cell_type": "code",
   "execution_count": 2,
   "id": "50169eef",
   "metadata": {},
   "outputs": [
    {
     "name": "stdout",
     "output_type": "stream",
     "text": [
      "The given list is: [1, 2, 3, 4, 5, 6, 7, 8, 9, 10]\n",
      "Elements obtained from the square function are:\n",
      "1\n",
      "4\n",
      "9\n",
      "16\n",
      "25\n",
      "36\n",
      "49\n",
      "64\n",
      "81\n",
      "100\n",
      "[1, 4, 9, 16, 25, 36, 49, 64, 81, 100]\n"
     ]
    }
   ],
   "source": [
    "#Program to generate a list using list generators\n",
    "def square(input_list):\n",
    "    square_list = []\n",
    "    for i in input_list:\n",
    "        square_list.append(i ** 2)\n",
    "    return square_list\n",
    "\n",
    "\n",
    "myList = [1, 2, 3, 4, 5, 6, 7, 8, 9, 10]\n",
    "print(\"The given list is:\", myList)\n",
    "squares = square(myList)\n",
    "print(\"Elements obtained from the square function are:\")\n",
    "for ele in squares:\n",
    "    print(ele)\n",
    "print(squares)"
   ]
  },
  {
   "cell_type": "code",
   "execution_count": 36,
   "id": "67913a9e",
   "metadata": {},
   "outputs": [
    {
     "name": "stdout",
     "output_type": "stream",
     "text": [
      "[[1, 2], [3, 2], [1, 2], [1, 2]]\n",
      "[1, 2, 3, 2, 1, 2, 1, 2]\n"
     ]
    }
   ],
   "source": [
    "#Program to perform spilt and join operation on a list\n",
    "L=[1,2,3,2,1,2,1,2]\n",
    "c=2\n",
    "chunk_list=[]\n",
    "M=[]\n",
    "for i in range(0,len(L),c):\n",
    "    chunk_list.append(L[i:i+c])\n",
    "print(chunk_list)\n",
    "k=[]\n",
    "for i in chunk_list:\n",
    "    k+=i\n",
    "#M=[k]\n",
    "print(k)"
   ]
  },
  {
   "cell_type": "code",
   "execution_count": 22,
   "id": "aec8e434",
   "metadata": {},
   "outputs": [
    {
     "name": "stdout",
     "output_type": "stream",
     "text": [
      "The minimum element of the List is  6\n",
      "the maximum element of the list is  100\n",
      "The sorted list(increasing order) looks like:  [6, 10, 13, 22, 23, 25, 43, 45, 56, 67, 67, 89, 100]\n"
     ]
    }
   ],
   "source": [
    "#Program to find minimum, maximum in a list\n",
    "L=[100,25,23,10,89,67,56,43,67,45,22,13,6]\n",
    "for j in range(0,len(L)):\n",
    "    for i in range((j+1),len(L)):\n",
    "        if L[j]>L[i]:\n",
    "            a=L[j]\n",
    "            L[j]=L[i]\n",
    "            L[i]=a\n",
    "print(\"The minimum element of the List is \",L[0])\n",
    "print(\"the maximum element of the list is \",L[len(L)-1])\n",
    "print(\"The sorted list(increasing order) looks like: \",L)\n"
   ]
  },
  {
   "cell_type": "code",
   "execution_count": 38,
   "id": "8c607e57",
   "metadata": {},
   "outputs": [
    {
     "name": "stdout",
     "output_type": "stream",
     "text": [
      "Enter the number to be searched be checked whether present or not in the list 0\n",
      "the entered no. is in List L\n",
      "6\n",
      "3\n"
     ]
    }
   ],
   "source": [
    "#Program to search an element in a list, find the number of occurrences and the index of its first occurrence \n",
    "L=[1,2,3,0,3,0,0,12,0,0,78,34,67,23,89,0]\n",
    "a=0\n",
    "int(a)\n",
    "n=int(input(\"Enter the number to be searched be checked whether present or not in the list \"))\n",
    "if n in L:\n",
    "    print(\"the entered no. is in List L\")\n",
    "    for i in L:\n",
    "        if i==n:\n",
    "            a=a+1\n",
    "else:\n",
    "    print(\"the entered number is not in L\")\n",
    "print(a)\n",
    "M=set(L)\n",
    "for i in range(0,len(L)):\n",
    "    if L[i]==n:\n",
    "        print(i)\n",
    "        break"
   ]
  },
  {
   "cell_type": "code",
   "execution_count": 43,
   "id": "47a396f4",
   "metadata": {},
   "outputs": [
    {
     "name": "stdout",
     "output_type": "stream",
     "text": [
      "1 2 2 3\n",
      "[[3, -2], [-2, 1]]\n"
     ]
    }
   ],
   "source": [
    "#Program to create a 2D list\n",
    "L=[[1,2],[2,3]]\n",
    "print(L[0][0],L[0][1],L[1][0],L[1][1])\n",
    "k=L[0][0]*L[1][1]-L[0][1]*L[1][0]\n",
    "if k!=0:\n",
    "    a=L[0][0]\n",
    "    L[0][0]=L[1][1]\n",
    "    L[1][1]=a\n",
    "    L[0][1]=-L[0][1]\n",
    "    L[1][0]=-L[1][0]\n",
    "print(L)"
   ]
  },
  {
   "cell_type": "code",
   "execution_count": 1,
   "id": "f3dcfc50",
   "metadata": {},
   "outputs": [],
   "source": [
    "#Program to iterate over a 2D list in different way\n",
    "L=[[1,2],[2,3]]\n",
    "print(L)"
   ]
  },
  {
   "cell_type": "code",
   "execution_count": null,
   "id": "ff6d2a30",
   "metadata": {},
   "outputs": [],
   "source": [
    "\n",
    "for i in range(l[0],l[1],1):\n",
    "  if ((i%10)%2==0) and (((i%100)//10)%2==0) and (((i%1000)//100)%2==0) and ((i//1000)%2==0):\n",
    "    print(i,end=\",\")\n"
   ]
  }
 ],
 "metadata": {
  "kernelspec": {
   "display_name": "Python 3 (ipykernel)",
   "language": "python",
   "name": "python3"
  },
  "language_info": {
   "codemirror_mode": {
    "name": "ipython",
    "version": 3
   },
   "file_extension": ".py",
   "mimetype": "text/x-python",
   "name": "python",
   "nbconvert_exporter": "python",
   "pygments_lexer": "ipython3",
   "version": "3.9.13"
  }
 },
 "nbformat": 4,
 "nbformat_minor": 5
}
