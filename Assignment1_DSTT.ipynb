{
  "nbformat": 4,
  "nbformat_minor": 0,
  "metadata": {
    "colab": {
      "provenance": []
    },
    "kernelspec": {
      "name": "python3",
      "display_name": "Python 3"
    },
    "language_info": {
      "name": "python"
    }
  },
  "cells": [
    {
      "cell_type": "markdown",
      "source": [
        "-  Name:Pratibha Bhandari\n",
        "-  Roll no:(22-14-03)\n",
        "# Assignment 1"
      ],
      "metadata": {
        "id": "3Lib578T_QLK"
      }
    },
    {
      "cell_type": "code",
      "source": [
        "#Problem_1(Assignment1)\n",
        "N=int(input())\n",
        "B=[int(i) for i in input().split()]\n",
        "A=[]\n",
        "for i in range(len(B)-1,-1,-1):\n",
        "  A.append(B[i])\n",
        "for i in range(0,len(A)):\n",
        "  print(A[i]*B[i],end=\" \")"
      ],
      "metadata": {
        "colab": {
          "base_uri": "https://localhost:8080/"
        },
        "id": "H8Riowj7quNz",
        "outputId": "11af1c3d-398f-4efa-c2bc-f41011a38d2f"
      },
      "execution_count": null,
      "outputs": [
        {
          "output_type": "stream",
          "name": "stdout",
          "text": [
            "5\n",
            "1 2 3 4 5\n",
            "5 8 9 8 5 "
          ]
        }
      ]
    },
    {
      "cell_type": "code",
      "source": [
        "#Problem_2(Assignment1)\n",
        "L=[int(i) for i in input().split(\" \")]\n",
        "for j in range(0,len(L)):\n",
        "    for i in range((j+1),len(L)):\n",
        "        if L[j]>L[i]:\n",
        "            a=L[j]\n",
        "            L[j]=L[i]\n",
        "            L[i]=a\n",
        "print(L[-2],\" \",L[1])\n",
        "\n"
      ],
      "metadata": {
        "colab": {
          "base_uri": "https://localhost:8080/"
        },
        "id": "qZ1thihL9qDc",
        "outputId": "29879da0-8d44-414c-fba8-2fb8073bfb60"
      },
      "execution_count": null,
      "outputs": [
        {
          "output_type": "stream",
          "name": "stdout",
          "text": [
            "1 2 3 4\n",
            "3   2\n"
          ]
        }
      ]
    },
    {
      "cell_type": "code",
      "source": [
        "#Problem_3(Assignment1)\n",
        "A=[int(i) for i in input().split()]\n",
        "#A=list(map(int,input().split(\" \")))\n",
        "for i in A:\n",
        "  if(i%5)!=0:\n",
        "    print(i,end=\" \")"
      ],
      "metadata": {
        "colab": {
          "base_uri": "https://localhost:8080/"
        },
        "id": "zFxCsP4n7_m6",
        "outputId": "88f9a74f-a5e6-4fde-c9ad-2062f95349a1"
      },
      "execution_count": null,
      "outputs": [
        {
          "output_type": "stream",
          "name": "stdout",
          "text": [
            "1 2 3 4 5 12 0 13\n",
            "1 2 3 4 12 13 "
          ]
        }
      ]
    },
    {
      "cell_type": "code",
      "source": [
        "#Program_4(Assignment_1)\n",
        "s=input()\n",
        "j,k=0,0\n",
        "for i in range(0,len(s)):\n",
        "  if s[i]==\"0\":\n",
        "    j+=1\n",
        "  elif s[i]==\"1\":\n",
        "    k+=1\n",
        "if (k==1)or(j==1):\n",
        "  print(\"yes\")\n",
        "else:\n",
        "  print(\"no\")"
      ],
      "metadata": {
        "colab": {
          "base_uri": "https://localhost:8080/"
        },
        "id": "iCWggl2N4oZw",
        "outputId": "1de9b396-bd60-472c-fe41-4525c7f355f0"
      },
      "execution_count": null,
      "outputs": [
        {
          "output_type": "stream",
          "name": "stdout",
          "text": [
            "110011001100\n",
            "no\n"
          ]
        }
      ]
    },
    {
      "cell_type": "code",
      "source": [
        "#Program_5(Assignment1)\n",
        "n=int(input())\n",
        "fac=1\n",
        "for i in range(1,n+1):\n",
        "  fac=fac*i\n",
        "print(fac)"
      ],
      "metadata": {
        "colab": {
          "base_uri": "https://localhost:8080/"
        },
        "id": "m502XcS-5tHr",
        "outputId": "8e934134-e979-49eb-f65f-96e13f75e0d9"
      },
      "execution_count": null,
      "outputs": [
        {
          "output_type": "stream",
          "name": "stdout",
          "text": [
            "5\n",
            "120\n"
          ]
        }
      ]
    },
    {
      "cell_type": "code",
      "source": [
        "#Program_6(Assignment1)\n",
        "l=[int(i) for i in input().split(\",\")]\n",
        "for i in range(l[0],l[1],1):\n",
        "  if ((i%10)%2==0) and ((i%100)%2==0) and ((i%1000)%2==0) and ((i%10000)%2==0):\n",
        "    print(i,end=\",\")\n",
        "\n"
      ],
      "metadata": {
        "colab": {
          "base_uri": "https://localhost:8080/"
        },
        "id": "N7EjF5YL6xhy",
        "outputId": "7baeeb20-ba68-4c65-a41b-79687e0a5f8a"
      },
      "execution_count": 1,
      "outputs": [
        {
          "output_type": "stream",
          "name": "stdout",
          "text": [
            "1000,1200\n",
            "1000,1002,1004,1006,1008,1010,1012,1014,1016,1018,1020,1022,1024,1026,1028,1030,1032,1034,1036,1038,1040,1042,1044,1046,1048,1050,1052,1054,1056,1058,1060,1062,1064,1066,1068,1070,1072,1074,1076,1078,1080,1082,1084,1086,1088,1090,1092,1094,1096,1098,1100,1102,1104,1106,1108,1110,1112,1114,1116,1118,1120,1122,1124,1126,1128,1130,1132,1134,1136,1138,1140,1142,1144,1146,1148,1150,1152,1154,1156,1158,1160,1162,1164,1166,1168,1170,1172,1174,1176,1178,1180,1182,1184,1186,1188,1190,1192,1194,1196,1198,"
          ]
        }
      ]
    }
  ]
}