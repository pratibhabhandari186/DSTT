{
  "nbformat": 4,
  "nbformat_minor": 0,
  "metadata": {
    "colab": {
      "provenance": [],
      "authorship_tag": "ABX9TyMYnDjViX2E4zGQBkLWMxbJ",
      "include_colab_link": true
    },
    "kernelspec": {
      "name": "python3",
      "display_name": "Python 3"
    },
    "language_info": {
      "name": "python"
    }
  },
  "cells": [
    {
      "cell_type": "markdown",
      "metadata": {
        "id": "view-in-github",
        "colab_type": "text"
      },
      "source": [
        "<a href=\"https://colab.research.google.com/github/pratibhabhandari186/DSTT/blob/main/Assignment1.ipynb\" target=\"_parent\"><img src=\"https://colab.research.google.com/assets/colab-badge.svg\" alt=\"Open In Colab\"/></a>"
      ]
    },
    {
      "cell_type": "markdown",
      "source": [
        "```\n",
        "Name:Pratibha Bhandari\n",
        "Roll_number:(22-14-03)\n",
        "Subject:Data Science Tools and Techniques\n",
        "```\n"
      ],
      "metadata": {
        "id": "3Lib578T_QLK"
      }
    },
    {
      "cell_type": "markdown",
      "source": [
        "**Problem_1** Given an array A of N numbers (int), WAP which prints the multiplication of the\n",
        "elements of array A with the corresponding elements of the reverse of array A.\n",
        "If A = [1,2,3], then reverse of A will be [3,2,1] and the result should be [3,4,3].\n",
        "Input Format:\n",
        "The first line of the input contains a number N The second line of the input contains\n",
        "N numbers separated by a space. (after the last elements, there is no space)\n",
        "Output Format:\n",
        "Print the resultant array of elements separated by a space. (no space after the last\n",
        "element)"
      ],
      "metadata": {
        "id": "Iqm3B0Od_YEk"
      }
    },
    {
      "cell_type": "code",
      "source": [
        "#Problem_1(Assignment1)\n",
        "N=int(input())\n",
        "B=[int(i) for i in input().split()]\n",
        "A=[]\n",
        "for i in range(len(B)-1,-1,-1):\n",
        "  A.append(B[i])\n",
        "for i in range(0,len(A)):\n",
        "  print(A[i]*B[i],end=\" \")"
      ],
      "metadata": {
        "colab": {
          "base_uri": "https://localhost:8080/"
        },
        "id": "H8Riowj7quNz",
        "outputId": "11af1c3d-398f-4efa-c2bc-f41011a38d2f"
      },
      "execution_count": null,
      "outputs": [
        {
          "output_type": "stream",
          "name": "stdout",
          "text": [
            "5\n",
            "1 2 3 4 5\n",
            "5 8 9 8 5 "
          ]
        }
      ]
    },
    {
      "cell_type": "markdown",
      "source": [
        "**Problem_2** Given a list of numbers (integers), find second maximum and second minimum in\n",
        "this list.\n",
        "Input Format:\n",
        "The first line contains numbers separated by a space.\n",
        "Output Format:\n",
        "Print the second maximum and second minimum separated by a space"
      ],
      "metadata": {
        "id": "-uYm6DX7AVbz"
      }
    },
    {
      "cell_type": "code",
      "source": [
        "#Problem_2(Assignment1)\n",
        "L=[int(i) for i in input().split(\" \")]\n",
        "for j in range(0,len(L)):\n",
        "    for i in range((j+1),len(L)):\n",
        "        if L[j]>L[i]:\n",
        "            a=L[j]\n",
        "            L[j]=L[i]\n",
        "            L[i]=a\n",
        "print(L[-2],\" \",L[1])\n",
        "\n"
      ],
      "metadata": {
        "colab": {
          "base_uri": "https://localhost:8080/"
        },
        "id": "qZ1thihL9qDc",
        "outputId": "29879da0-8d44-414c-fba8-2fb8073bfb60"
      },
      "execution_count": null,
      "outputs": [
        {
          "output_type": "stream",
          "name": "stdout",
          "text": [
            "1 2 3 4\n",
            "3   2\n"
          ]
        }
      ]
    },
    {
      "cell_type": "markdown",
      "source": [
        "**Problem_3** Given a list A of numbers (integers), you have to print those numbers which are not\n",
        "multiples of 5.\n",
        "Input Format:\n",
        "The first line contains the numbers of list A separated by a space.\n",
        "Output Format:\n",
        "Print the numbers in a single line separated by a space which are not multiples of 5.\n",
        "Example:\n",
        "Input:\n",
        "1 2 3 4 5 6 5\n",
        "Output:\n",
        "1 2 3 4 6\n",
        "Explanation:\n",
        "Here the elements of A are 1,2,3,4,5,6,5 and since 5 is the multiple of 5, after removing\n",
        "them the list becomes 1,2,3,4,6."
      ],
      "metadata": {
        "id": "uvlH3d1vAiLc"
      }
    },
    {
      "cell_type": "code",
      "source": [
        "#Problem_3(Assignment1)\n",
        "A=[int(i) for i in input().split()]\n",
        "#A=list(map(int,input().split(\" \")))\n",
        "for i in A:\n",
        "  if(i%5)!=0:\n",
        "    print(i,end=\" \")"
      ],
      "metadata": {
        "colab": {
          "base_uri": "https://localhost:8080/"
        },
        "id": "zFxCsP4n7_m6",
        "outputId": "88f9a74f-a5e6-4fde-c9ad-2062f95349a1"
      },
      "execution_count": null,
      "outputs": [
        {
          "output_type": "stream",
          "name": "stdout",
          "text": [
            "1 2 3 4 5 12 0 13\n",
            "1 2 3 4 12 13 "
          ]
        }
      ]
    },
    {
      "cell_type": "markdown",
      "source": [
        "**Problem_4** You are given a number A which contains only digits 0’s and 1’s. Your task is to\n",
        "make all digits same by just flipping one digit (i.e. 0 to 1 or 1 to 0 ) only. If it is\n",
        "possible to make all the digits same by just flipping one digit then print ’YES’ else\n",
        "print ’NO’.\n",
        "Input Format:\n",
        "The first line contains a number made up of 0’s and 1’s.\n",
        "Output Format:\n",
        "Print ’YES’ or ’NO’ accordingly without quotes.\n",
        "Example:\n",
        "Input:\n",
        "101\n",
        "Output:\n",
        "YES\n",
        "Explanation:\n",
        "If you flip the middle digit from 0 to 1 then all the digits will become same. Hence\n",
        "output is YES."
      ],
      "metadata": {
        "id": "utRT2zCkBBbX"
      }
    },
    {
      "cell_type": "code",
      "source": [
        "#Program_4(Assignment_1)\n",
        "s=input()\n",
        "j,k=0,0\n",
        "for i in range(0,len(s)):\n",
        "  if s[i]==\"0\":\n",
        "    j+=1\n",
        "  elif s[i]==\"1\":\n",
        "    k+=1\n",
        "if (k==1)or(j==1):\n",
        "  print(\"yes\")\n",
        "else:\n",
        "  print(\"no\")"
      ],
      "metadata": {
        "colab": {
          "base_uri": "https://localhost:8080/"
        },
        "id": "iCWggl2N4oZw",
        "outputId": "1de9b396-bd60-472c-fe41-4525c7f355f0"
      },
      "execution_count": null,
      "outputs": [
        {
          "output_type": "stream",
          "name": "stdout",
          "text": [
            "110011001100\n",
            "no\n"
          ]
        }
      ]
    },
    {
      "cell_type": "markdown",
      "source": [
        "**Problem_5** Given an integer number n, you have to print the factorial of this number.\n",
        "Input Format:\n",
        "A number n.\n",
        "Output Format:\n",
        "Print the factorial of n.\n",
        "Example:\n",
        "Input:\n",
        "4\n",
        "Output:\n",
        "24"
      ],
      "metadata": {
        "id": "lp8YYvXqBMf2"
      }
    },
    {
      "cell_type": "code",
      "source": [
        "#Program_5(Assignment1)\n",
        "n=int(input())\n",
        "fac=1\n",
        "for i in range(1,n+1):\n",
        "  fac=fac*i\n",
        "print(fac)"
      ],
      "metadata": {
        "colab": {
          "base_uri": "https://localhost:8080/"
        },
        "id": "m502XcS-5tHr",
        "outputId": "8e934134-e979-49eb-f65f-96e13f75e0d9"
      },
      "execution_count": null,
      "outputs": [
        {
          "output_type": "stream",
          "name": "stdout",
          "text": [
            "5\n",
            "120\n"
          ]
        }
      ]
    },
    {
      "cell_type": "markdown",
      "source": [
        "**Problem_6** Write a program, which will find all such numbers between m and n (both included)\n",
        "such that each digit of the number is an even number.\n",
        "Input Format:\n",
        "The first line contains value m and n separated by a comma.\n",
        "Output Format:\n",
        "The numbers obtained should be printed in a comma-separated sequence on a single\n",
        "line.\n",
        "Constraints:\n",
        "1000<=m<=9000\n",
        "1000<=n<=9000"
      ],
      "metadata": {
        "id": "aa3Z4EGqBW-1"
      }
    },
    {
      "cell_type": "code",
      "source": [
        "#Program_6(Assignment1)\n",
        "m,n=input().split(\",\")\n",
        "m=int(m)\n",
        "n=int(n)\n",
        "if m>=1000 and n<=9000:\n",
        "  for i in range(m,n+1):\n",
        "    flag=0\n",
        "    x=str(i)\n",
        "    l=[int(k) for k in x]\n",
        "    for j in l: \n",
        "      if (j%2!=0):\n",
        "       flag=1\n",
        "       break\n",
        "    if flag==0:\n",
        "      print (i,end=\",\")\n",
        "\n",
        "\n",
        "   "
      ],
      "metadata": {
        "colab": {
          "base_uri": "https://localhost:8080/"
        },
        "id": "N7EjF5YL6xhy",
        "outputId": "8724eab8-f13b-4acb-9536-fa8b2665ec9c"
      },
      "execution_count": 11,
      "outputs": [
        {
          "output_type": "stream",
          "name": "stdout",
          "text": [
            "1000,9000\n",
            "2000,2002,2004,2006,2008,2020,2022,2024,2026,2028,2040,2042,2044,2046,2048,2060,2062,2064,2066,2068,2080,2082,2084,2086,2088,2200,2202,2204,2206,2208,2220,2222,2224,2226,2228,2240,2242,2244,2246,2248,2260,2262,2264,2266,2268,2280,2282,2284,2286,2288,2400,2402,2404,2406,2408,2420,2422,2424,2426,2428,2440,2442,2444,2446,2448,2460,2462,2464,2466,2468,2480,2482,2484,2486,2488,2600,2602,2604,2606,2608,2620,2622,2624,2626,2628,2640,2642,2644,2646,2648,2660,2662,2664,2666,2668,2680,2682,2684,2686,2688,2800,2802,2804,2806,2808,2820,2822,2824,2826,2828,2840,2842,2844,2846,2848,2860,2862,2864,2866,2868,2880,2882,2884,2886,2888,4000,4002,4004,4006,4008,4020,4022,4024,4026,4028,4040,4042,4044,4046,4048,4060,4062,4064,4066,4068,4080,4082,4084,4086,4088,4200,4202,4204,4206,4208,4220,4222,4224,4226,4228,4240,4242,4244,4246,4248,4260,4262,4264,4266,4268,4280,4282,4284,4286,4288,4400,4402,4404,4406,4408,4420,4422,4424,4426,4428,4440,4442,4444,4446,4448,4460,4462,4464,4466,4468,4480,4482,4484,4486,4488,4600,4602,4604,4606,4608,4620,4622,4624,4626,4628,4640,4642,4644,4646,4648,4660,4662,4664,4666,4668,4680,4682,4684,4686,4688,4800,4802,4804,4806,4808,4820,4822,4824,4826,4828,4840,4842,4844,4846,4848,4860,4862,4864,4866,4868,4880,4882,4884,4886,4888,6000,6002,6004,6006,6008,6020,6022,6024,6026,6028,6040,6042,6044,6046,6048,6060,6062,6064,6066,6068,6080,6082,6084,6086,6088,6200,6202,6204,6206,6208,6220,6222,6224,6226,6228,6240,6242,6244,6246,6248,6260,6262,6264,6266,6268,6280,6282,6284,6286,6288,6400,6402,6404,6406,6408,6420,6422,6424,6426,6428,6440,6442,6444,6446,6448,6460,6462,6464,6466,6468,6480,6482,6484,6486,6488,6600,6602,6604,6606,6608,6620,6622,6624,6626,6628,6640,6642,6644,6646,6648,6660,6662,6664,6666,6668,6680,6682,6684,6686,6688,6800,6802,6804,6806,6808,6820,6822,6824,6826,6828,6840,6842,6844,6846,6848,6860,6862,6864,6866,6868,6880,6882,6884,6886,6888,8000,8002,8004,8006,8008,8020,8022,8024,8026,8028,8040,8042,8044,8046,8048,8060,8062,8064,8066,8068,8080,8082,8084,8086,8088,8200,8202,8204,8206,8208,8220,8222,8224,8226,8228,8240,8242,8244,8246,8248,8260,8262,8264,8266,8268,8280,8282,8284,8286,8288,8400,8402,8404,8406,8408,8420,8422,8424,8426,8428,8440,8442,8444,8446,8448,8460,8462,8464,8466,8468,8480,8482,8484,8486,8488,8600,8602,8604,8606,8608,8620,8622,8624,8626,8628,8640,8642,8644,8646,8648,8660,8662,8664,8666,8668,8680,8682,8684,8686,8688,8800,8802,8804,8806,8808,8820,8822,8824,8826,8828,8840,8842,8844,8846,8848,8860,8862,8864,8866,8868,8880,8882,8884,8886,8888,"
          ]
        }
      ]
    }
  ]
}